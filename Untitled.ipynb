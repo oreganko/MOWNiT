{
 "cells": [
  {
   "cell_type": "markdown",
   "metadata": {},
   "source": [
    " <b> Zadanie 1 </b> <br>\n",
    "- Korzytając z pakietu <a href=\"https://github.com/JuliaMath/Polynomials.jl\">Polynomials</a> zaimplentuj wielomiany Legendre'a zdefiniowane w taki sposób:\n",
    "\n",
    "$P_{0}(x)=1$\n",
    "\n",
    "$P_{1}(x)=x$\n",
    "\n",
    "$P_{k+1}(x)=\\frac{2k+1}{k+1} x P_{k}(x)-\\frac{k}{k+1}P_{k-1}(x)$\n",
    "\n",
    "- narysuj ich wykresy w przedziale (-1,1). \n",
    "- sprawdź(np. za pomocą fukcji <i>roots</i> z pakietu Polynomials), że ich zera  sa odciętymi punktów Gaussa. Test wykonaj dla wielomianow od 2 do 4 stopnia\n",
    "- podaj związek tego faktu z podstawowym twierdzeniem kwadratur Gaussa (z wykładu)"
   ]
  },
  {
   "cell_type": "code",
   "execution_count": 1,
   "metadata": {},
   "outputs": [
    {
     "name": "stdout",
     "output_type": "stream",
     "text": [
      "\u001b[32m\u001b[1m Resolving\u001b[22m\u001b[39m package versions...\n",
      "\u001b[32m\u001b[1m  Updating\u001b[22m\u001b[39m `~/.julia/Project.toml`\n",
      " \u001b[90m [1fd47b50]\u001b[39m\u001b[92m + QuadGK v2.0.3\u001b[39m\n",
      "\u001b[32m\u001b[1m  Updating\u001b[22m\u001b[39m `~/.julia/Manifest.toml`\n",
      "\u001b[90m [no changes]\u001b[39m\n"
     ]
    }
   ],
   "source": [
    "# Pkg.add(\"QuadGK\")\n",
    "using QuadGK\n",
    "using Polynomials"
   ]
  },
  {
   "cell_type": "code",
   "execution_count": 9,
   "metadata": {},
   "outputs": [
    {
     "data": {
      "text/plain": [
       "Legendre (generic function with 2 methods)"
      ]
     },
     "execution_count": 9,
     "metadata": {},
     "output_type": "execute_result"
    }
   ],
   "source": [
    "function Legendre(n)\n",
    "    if n==0\n",
    "        return Poly([1])\n",
    "    end\n",
    "    if n==1\n",
    "        return Poly([0,1])\n",
    "    end\n",
    "    return Poly([0, ((2 * n - 1) / n)]) * Legendre(n-1) - ((n - 1) / n) * Legendre(n-2)\n",
    "end"
   ]
  },
  {
   "cell_type": "code",
   "execution_count": 10,
   "metadata": {},
   "outputs": [
    {
     "data": {
      "text/plain": [
       "41-element Array{Float64,1}:\n",
       " -1.0000000000000002  \n",
       " -0.37274363281249967 \n",
       "  0.041141249999999845\n",
       "  0.28566441406249976 \n",
       "  0.39951999999999954 \n",
       "  0.41638183593749983 \n",
       "  0.3651987500000001  \n",
       "  0.27048988281249975 \n",
       "  0.15263999999999983 \n",
       "  0.028194804687499887\n",
       " -0.08984375000000011 \n",
       " -0.1917221484375001  \n",
       " -0.27064000000000005 \n",
       "  ⋮                   \n",
       "  0.1917221484375001  \n",
       "  0.08984375000000011 \n",
       " -0.028194804687499887\n",
       " -0.15263999999999983 \n",
       " -0.27048988281249975 \n",
       " -0.3651987500000001  \n",
       " -0.41638183593749983 \n",
       " -0.39951999999999954 \n",
       " -0.28566441406249976 \n",
       " -0.041141249999999845\n",
       "  0.37274363281249967 \n",
       "  1.0000000000000002  "
      ]
     },
     "execution_count": 10,
     "metadata": {},
     "output_type": "execute_result"
    }
   ],
   "source": [
    "x_s = -1:0.05:1\n",
    "ys_0 = [polyval(Legendre(0), xi) for xi in x_s]\n",
    "ys_1 = [polyval(Legendre(1), xi) for xi in x_s]\n",
    "ys_2 = [polyval(Legendre(2), xi) for xi in x_s]\n",
    "ys_3 = [polyval(Legendre(3), xi) for xi in x_s]\n",
    "ys_4 = [polyval(Legendre(4), xi) for xi in x_s]\n",
    "ys_5 = [polyval(Legendre(5), xi) for xi in x_s]"
   ]
  },
  {
   "cell_type": "code",
   "execution_count": 11,
   "metadata": {},
   "outputs": [
    {
     "data": {
      "image/svg+xml": [
       "<?xml version=\"1.0\" encoding=\"utf-8\"?>\n",
       "<svg xmlns=\"http://www.w3.org/2000/svg\" xmlns:xlink=\"http://www.w3.org/1999/xlink\" width=\"600\" height=\"400\" viewBox=\"0 0 2400 1600\">\n",
       "<defs>\n",
       "  <clipPath id=\"clip9400\">\n",
       "    <rect x=\"0\" y=\"0\" width=\"2000\" height=\"2000\"/>\n",
       "  </clipPath>\n",
       "</defs>\n",
       "<defs>\n",
       "  <clipPath id=\"clip9401\">\n",
       "    <rect x=\"0\" y=\"0\" width=\"2400\" height=\"1600\"/>\n",
       "  </clipPath>\n",
       "</defs>\n",
       "<polygon clip-path=\"url(#clip9401)\" points=\"\n",
       "0,1600 2400,1600 2400,0 0,0 \n",
       "  \" fill=\"#ffffff\" fill-rule=\"evenodd\" fill-opacity=\"1\"/>\n",
       "<defs>\n",
       "  <clipPath id=\"clip9402\">\n",
       "    <rect x=\"480\" y=\"0\" width=\"1681\" height=\"1600\"/>\n",
       "  </clipPath>\n",
       "</defs>\n",
       "<polygon clip-path=\"url(#clip9401)\" points=\"\n",
       "252.496,1440.48 2321.26,1440.48 2321.26,47.2441 252.496,47.2441 \n",
       "  \" fill=\"#ffffff\" fill-rule=\"evenodd\" fill-opacity=\"1\"/>\n",
       "<defs>\n",
       "  <clipPath id=\"clip9403\">\n",
       "    <rect x=\"252\" y=\"47\" width=\"2070\" height=\"1394\"/>\n",
       "  </clipPath>\n",
       "</defs>\n",
       "<polyline clip-path=\"url(#clip9403)\" style=\"stroke:#000000; stroke-width:2; stroke-opacity:0.1; fill:none\" points=\"\n",
       "  311.046,1440.48 311.046,47.2441 \n",
       "  \"/>\n",
       "<polyline clip-path=\"url(#clip9403)\" style=\"stroke:#000000; stroke-width:2; stroke-opacity:0.1; fill:none\" points=\"\n",
       "  798.962,1440.48 798.962,47.2441 \n",
       "  \"/>\n",
       "<polyline clip-path=\"url(#clip9403)\" style=\"stroke:#000000; stroke-width:2; stroke-opacity:0.1; fill:none\" points=\"\n",
       "  1286.88,1440.48 1286.88,47.2441 \n",
       "  \"/>\n",
       "<polyline clip-path=\"url(#clip9403)\" style=\"stroke:#000000; stroke-width:2; stroke-opacity:0.1; fill:none\" points=\"\n",
       "  1774.79,1440.48 1774.79,47.2441 \n",
       "  \"/>\n",
       "<polyline clip-path=\"url(#clip9403)\" style=\"stroke:#000000; stroke-width:2; stroke-opacity:0.1; fill:none\" points=\"\n",
       "  2262.71,1440.48 2262.71,47.2441 \n",
       "  \"/>\n",
       "<polyline clip-path=\"url(#clip9403)\" style=\"stroke:#000000; stroke-width:2; stroke-opacity:0.1; fill:none\" points=\"\n",
       "  252.496,1401.05 2321.26,1401.05 \n",
       "  \"/>\n",
       "<polyline clip-path=\"url(#clip9403)\" style=\"stroke:#000000; stroke-width:2; stroke-opacity:0.1; fill:none\" points=\"\n",
       "  252.496,1072.46 2321.26,1072.46 \n",
       "  \"/>\n",
       "<polyline clip-path=\"url(#clip9403)\" style=\"stroke:#000000; stroke-width:2; stroke-opacity:0.1; fill:none\" points=\"\n",
       "  252.496,743.863 2321.26,743.863 \n",
       "  \"/>\n",
       "<polyline clip-path=\"url(#clip9403)\" style=\"stroke:#000000; stroke-width:2; stroke-opacity:0.1; fill:none\" points=\"\n",
       "  252.496,415.269 2321.26,415.269 \n",
       "  \"/>\n",
       "<polyline clip-path=\"url(#clip9403)\" style=\"stroke:#000000; stroke-width:2; stroke-opacity:0.1; fill:none\" points=\"\n",
       "  252.496,86.6754 2321.26,86.6754 \n",
       "  \"/>\n",
       "<polyline clip-path=\"url(#clip9401)\" style=\"stroke:#000000; stroke-width:4; stroke-opacity:1; fill:none\" points=\"\n",
       "  252.496,1440.48 2321.26,1440.48 \n",
       "  \"/>\n",
       "<polyline clip-path=\"url(#clip9401)\" style=\"stroke:#000000; stroke-width:4; stroke-opacity:1; fill:none\" points=\"\n",
       "  252.496,1440.48 252.496,47.2441 \n",
       "  \"/>\n",
       "<polyline clip-path=\"url(#clip9401)\" style=\"stroke:#000000; stroke-width:4; stroke-opacity:1; fill:none\" points=\"\n",
       "  311.046,1440.48 311.046,1419.58 \n",
       "  \"/>\n",
       "<polyline clip-path=\"url(#clip9401)\" style=\"stroke:#000000; stroke-width:4; stroke-opacity:1; fill:none\" points=\"\n",
       "  798.962,1440.48 798.962,1419.58 \n",
       "  \"/>\n",
       "<polyline clip-path=\"url(#clip9401)\" style=\"stroke:#000000; stroke-width:4; stroke-opacity:1; fill:none\" points=\"\n",
       "  1286.88,1440.48 1286.88,1419.58 \n",
       "  \"/>\n",
       "<polyline clip-path=\"url(#clip9401)\" style=\"stroke:#000000; stroke-width:4; stroke-opacity:1; fill:none\" points=\"\n",
       "  1774.79,1440.48 1774.79,1419.58 \n",
       "  \"/>\n",
       "<polyline clip-path=\"url(#clip9401)\" style=\"stroke:#000000; stroke-width:4; stroke-opacity:1; fill:none\" points=\"\n",
       "  2262.71,1440.48 2262.71,1419.58 \n",
       "  \"/>\n",
       "<polyline clip-path=\"url(#clip9401)\" style=\"stroke:#000000; stroke-width:4; stroke-opacity:1; fill:none\" points=\"\n",
       "  252.496,1401.05 283.528,1401.05 \n",
       "  \"/>\n",
       "<polyline clip-path=\"url(#clip9401)\" style=\"stroke:#000000; stroke-width:4; stroke-opacity:1; fill:none\" points=\"\n",
       "  252.496,1072.46 283.528,1072.46 \n",
       "  \"/>\n",
       "<polyline clip-path=\"url(#clip9401)\" style=\"stroke:#000000; stroke-width:4; stroke-opacity:1; fill:none\" points=\"\n",
       "  252.496,743.863 283.528,743.863 \n",
       "  \"/>\n",
       "<polyline clip-path=\"url(#clip9401)\" style=\"stroke:#000000; stroke-width:4; stroke-opacity:1; fill:none\" points=\"\n",
       "  252.496,415.269 283.528,415.269 \n",
       "  \"/>\n",
       "<polyline clip-path=\"url(#clip9401)\" style=\"stroke:#000000; stroke-width:4; stroke-opacity:1; fill:none\" points=\"\n",
       "  252.496,86.6754 283.528,86.6754 \n",
       "  \"/>\n",
       "<g clip-path=\"url(#clip9401)\">\n",
       "<text style=\"fill:#000000; fill-opacity:1; font-family:Arial,Helvetica Neue,Helvetica,sans-serif; font-size:48px; text-anchor:middle;\" transform=\"rotate(0, 311.046, 1494.48)\" x=\"311.046\" y=\"1494.48\">-1.0</text>\n",
       "</g>\n",
       "<g clip-path=\"url(#clip9401)\">\n",
       "<text style=\"fill:#000000; fill-opacity:1; font-family:Arial,Helvetica Neue,Helvetica,sans-serif; font-size:48px; text-anchor:middle;\" transform=\"rotate(0, 798.962, 1494.48)\" x=\"798.962\" y=\"1494.48\">-0.5</text>\n",
       "</g>\n",
       "<g clip-path=\"url(#clip9401)\">\n",
       "<text style=\"fill:#000000; fill-opacity:1; font-family:Arial,Helvetica Neue,Helvetica,sans-serif; font-size:48px; text-anchor:middle;\" transform=\"rotate(0, 1286.88, 1494.48)\" x=\"1286.88\" y=\"1494.48\">0.0</text>\n",
       "</g>\n",
       "<g clip-path=\"url(#clip9401)\">\n",
       "<text style=\"fill:#000000; fill-opacity:1; font-family:Arial,Helvetica Neue,Helvetica,sans-serif; font-size:48px; text-anchor:middle;\" transform=\"rotate(0, 1774.79, 1494.48)\" x=\"1774.79\" y=\"1494.48\">0.5</text>\n",
       "</g>\n",
       "<g clip-path=\"url(#clip9401)\">\n",
       "<text style=\"fill:#000000; fill-opacity:1; font-family:Arial,Helvetica Neue,Helvetica,sans-serif; font-size:48px; text-anchor:middle;\" transform=\"rotate(0, 2262.71, 1494.48)\" x=\"2262.71\" y=\"1494.48\">1.0</text>\n",
       "</g>\n",
       "<g clip-path=\"url(#clip9401)\">\n",
       "<text style=\"fill:#000000; fill-opacity:1; font-family:Arial,Helvetica Neue,Helvetica,sans-serif; font-size:48px; text-anchor:end;\" transform=\"rotate(0, 228.496, 1418.55)\" x=\"228.496\" y=\"1418.55\">-1.0</text>\n",
       "</g>\n",
       "<g clip-path=\"url(#clip9401)\">\n",
       "<text style=\"fill:#000000; fill-opacity:1; font-family:Arial,Helvetica Neue,Helvetica,sans-serif; font-size:48px; text-anchor:end;\" transform=\"rotate(0, 228.496, 1089.96)\" x=\"228.496\" y=\"1089.96\">-0.5</text>\n",
       "</g>\n",
       "<g clip-path=\"url(#clip9401)\">\n",
       "<text style=\"fill:#000000; fill-opacity:1; font-family:Arial,Helvetica Neue,Helvetica,sans-serif; font-size:48px; text-anchor:end;\" transform=\"rotate(0, 228.496, 761.363)\" x=\"228.496\" y=\"761.363\">0.0</text>\n",
       "</g>\n",
       "<g clip-path=\"url(#clip9401)\">\n",
       "<text style=\"fill:#000000; fill-opacity:1; font-family:Arial,Helvetica Neue,Helvetica,sans-serif; font-size:48px; text-anchor:end;\" transform=\"rotate(0, 228.496, 432.769)\" x=\"228.496\" y=\"432.769\">0.5</text>\n",
       "</g>\n",
       "<g clip-path=\"url(#clip9401)\">\n",
       "<text style=\"fill:#000000; fill-opacity:1; font-family:Arial,Helvetica Neue,Helvetica,sans-serif; font-size:48px; text-anchor:end;\" transform=\"rotate(0, 228.496, 104.175)\" x=\"228.496\" y=\"104.175\">1.0</text>\n",
       "</g>\n",
       "<g clip-path=\"url(#clip9401)\">\n",
       "<text style=\"fill:#000000; fill-opacity:1; font-family:Arial,Helvetica Neue,Helvetica,sans-serif; font-size:66px; text-anchor:middle;\" transform=\"rotate(0, 1286.88, 1590.4)\" x=\"1286.88\" y=\"1590.4\">x</text>\n",
       "</g>\n",
       "<g clip-path=\"url(#clip9401)\">\n",
       "<text style=\"fill:#000000; fill-opacity:1; font-family:Arial,Helvetica Neue,Helvetica,sans-serif; font-size:66px; text-anchor:middle;\" transform=\"rotate(-90, 57.6, 743.863)\" x=\"57.6\" y=\"743.863\">y</text>\n",
       "</g>\n",
       "<polyline clip-path=\"url(#clip9403)\" style=\"stroke:#009af9; stroke-width:4; stroke-opacity:1; fill:none\" points=\"\n",
       "  311.046,86.6754 359.838,86.6754 408.629,86.6754 457.421,86.6754 506.213,86.6754 555.004,86.6754 603.796,86.6754 652.587,86.6754 701.379,86.6754 750.171,86.6754 \n",
       "  798.962,86.6754 847.754,86.6754 896.545,86.6754 945.337,86.6754 994.128,86.6754 1042.92,86.6754 1091.71,86.6754 1140.5,86.6754 1189.29,86.6754 1238.09,86.6754 \n",
       "  1286.88,86.6754 1335.67,86.6754 1384.46,86.6754 1433.25,86.6754 1482.04,86.6754 1530.84,86.6754 1579.63,86.6754 1628.42,86.6754 1677.21,86.6754 1726,86.6754 \n",
       "  1774.79,86.6754 1823.59,86.6754 1872.38,86.6754 1921.17,86.6754 1969.96,86.6754 2018.75,86.6754 2067.54,86.6754 2116.34,86.6754 2165.13,86.6754 2213.92,86.6754 \n",
       "  2262.71,86.6754 \n",
       "  \"/>\n",
       "<polyline clip-path=\"url(#clip9403)\" style=\"stroke:#e26f46; stroke-width:4; stroke-opacity:1; fill:none\" points=\"\n",
       "  311.046,1401.05 359.838,1368.19 408.629,1335.33 457.421,1302.47 506.213,1269.61 555.004,1236.75 603.796,1203.89 652.587,1171.04 701.379,1138.18 750.171,1105.32 \n",
       "  798.962,1072.46 847.754,1039.6 896.545,1006.74 945.337,973.879 994.128,941.02 1042.92,908.16 1091.71,875.301 1140.5,842.442 1189.29,809.582 1238.09,776.723 \n",
       "  1286.88,743.863 1335.67,711.004 1384.46,678.145 1433.25,645.285 1482.04,612.426 1530.84,579.566 1579.63,546.707 1628.42,513.848 1677.21,480.988 1726,448.129 \n",
       "  1774.79,415.269 1823.59,382.41 1872.38,349.551 1921.17,316.691 1969.96,283.832 2018.75,250.972 2067.54,218.113 2116.34,185.254 2165.13,152.394 2213.92,119.535 \n",
       "  2262.71,86.6754 \n",
       "  \"/>\n",
       "<polyline clip-path=\"url(#clip9403)\" style=\"stroke:#3da44d; stroke-width:4; stroke-opacity:1; fill:none\" points=\"\n",
       "  311.046,86.6754 359.838,182.789 408.629,273.974 457.421,360.23 506.213,441.557 555.004,517.955 603.796,589.424 652.587,655.964 701.379,717.576 750.171,774.258 \n",
       "  798.962,826.012 847.754,872.836 896.545,914.732 945.337,951.699 994.128,983.737 1042.92,1010.85 1091.71,1033.03 1140.5,1050.28 1189.29,1062.6 1238.09,1069.99 \n",
       "  1286.88,1072.46 1335.67,1069.99 1384.46,1062.6 1433.25,1050.28 1482.04,1033.03 1530.84,1010.85 1579.63,983.737 1628.42,951.699 1677.21,914.732 1726,872.836 \n",
       "  1774.79,826.012 1823.59,774.258 1872.38,717.576 1921.17,655.964 1969.96,589.424 2018.75,517.955 2067.54,441.557 2116.34,360.23 2165.13,273.974 2213.92,182.789 \n",
       "  2262.71,86.6754 \n",
       "  \"/>\n",
       "<polyline clip-path=\"url(#clip9403)\" style=\"stroke:#c271d2; stroke-width:4; stroke-opacity:1; fill:none\" points=\"\n",
       "  311.046,1401.05 359.838,1216.01 408.629,1054.38 457.421,914.938 506.213,796.438 555.004,697.655 603.796,617.355 652.587,554.306 701.379,507.276 750.171,475.032 \n",
       "  798.962,456.344 847.754,449.977 896.545,454.701 945.337,469.282 994.128,492.489 1042.92,523.089 1091.71,559.851 1140.5,601.541 1189.29,646.928 1238.09,694.78 \n",
       "  1286.88,743.863 1335.67,792.947 1384.46,840.799 1433.25,886.186 1482.04,927.876 1530.84,964.637 1579.63,995.238 1628.42,1018.44 1677.21,1033.03 1726,1037.75 \n",
       "  1774.79,1031.38 1823.59,1012.69 1872.38,980.451 1921.17,933.421 1969.96,870.372 2018.75,790.072 2067.54,691.288 2116.34,572.789 2165.13,433.342 2213.92,271.715 \n",
       "  2262.71,86.6754 \n",
       "  \"/>\n",
       "<polyline clip-path=\"url(#clip9403)\" style=\"stroke:#ac8d18; stroke-width:4; stroke-opacity:1; fill:none\" points=\"\n",
       "  311.046,86.6754 359.838,379.722 408.629,607.209 457.421,777.116 506.213,896.988 555.004,973.943 603.796,1014.67 652.587,1025.41 701.379,1012 750.171,979.817 \n",
       "  798.962,933.832 847.754,878.569 896.545,818.126 945.337,756.168 994.128,695.93 1042.92,640.215 1091.71,591.396 1140.5,551.413 1189.29,521.775 1238.09,503.561 \n",
       "  1286.88,497.418 1335.67,503.561 1384.46,521.775 1433.25,551.413 1482.04,591.396 1530.84,640.215 1579.63,695.93 1628.42,756.168 1677.21,818.126 1726,878.569 \n",
       "  1774.79,933.832 1823.59,979.817 1872.38,1012 1921.17,1025.41 1969.96,1014.67 2018.75,973.943 2067.54,896.988 2116.34,777.116 2165.13,607.209 2213.92,379.722 \n",
       "  2262.71,86.6754 \n",
       "  \"/>\n",
       "<polyline clip-path=\"url(#clip9403)\" style=\"stroke:#00a9ad; stroke-width:4; stroke-opacity:1; fill:none\" points=\"\n",
       "  311.046,1401.05 359.838,988.826 408.629,716.826 457.421,556.128 506.213,481.304 555.004,470.222 603.796,503.859 652.587,566.101 701.379,643.55 750.171,725.334 \n",
       "  798.962,802.908 847.754,869.861 896.545,921.725 945.337,955.777 994.128,970.847 1042.92,967.124 1091.71,945.962 1140.5,909.683 1189.29,861.387 1238.09,804.758 \n",
       "  1286.88,743.863 1335.67,682.969 1384.46,626.339 1433.25,578.044 1482.04,541.765 1530.84,520.602 1579.63,516.88 1628.42,531.95 1677.21,566.002 1726,617.866 \n",
       "  1774.79,684.819 1823.59,762.393 1872.38,844.177 1921.17,921.626 1969.96,983.868 2018.75,1017.5 2067.54,1006.42 2116.34,931.599 2165.13,770.901 2213.92,498.901 \n",
       "  2262.71,86.6754 \n",
       "  \"/>\n",
       "<polygon clip-path=\"url(#clip9401)\" points=\"\n",
       "1765.75,554.124 2249.26,554.124 2249.26,130.764 1765.75,130.764 \n",
       "  \" fill=\"#ffffff\" fill-rule=\"evenodd\" fill-opacity=\"1\"/>\n",
       "<polyline clip-path=\"url(#clip9401)\" style=\"stroke:#000000; stroke-width:4; stroke-opacity:1; fill:none\" points=\"\n",
       "  1765.75,554.124 2249.26,554.124 2249.26,130.764 1765.75,130.764 1765.75,554.124 \n",
       "  \"/>\n",
       "<polyline clip-path=\"url(#clip9401)\" style=\"stroke:#009af9; stroke-width:4; stroke-opacity:1; fill:none\" points=\"\n",
       "  1789.75,191.244 1933.75,191.244 \n",
       "  \"/>\n",
       "<g clip-path=\"url(#clip9401)\">\n",
       "<text style=\"fill:#000000; fill-opacity:1; font-family:Arial,Helvetica Neue,Helvetica,sans-serif; font-size:48px; text-anchor:start;\" transform=\"rotate(0, 1957.75, 208.744)\" x=\"1957.75\" y=\"208.744\">Legendre 0</text>\n",
       "</g>\n",
       "<polyline clip-path=\"url(#clip9401)\" style=\"stroke:#e26f46; stroke-width:4; stroke-opacity:1; fill:none\" points=\"\n",
       "  1789.75,251.724 1933.75,251.724 \n",
       "  \"/>\n",
       "<g clip-path=\"url(#clip9401)\">\n",
       "<text style=\"fill:#000000; fill-opacity:1; font-family:Arial,Helvetica Neue,Helvetica,sans-serif; font-size:48px; text-anchor:start;\" transform=\"rotate(0, 1957.75, 269.224)\" x=\"1957.75\" y=\"269.224\">Legendre 1</text>\n",
       "</g>\n",
       "<polyline clip-path=\"url(#clip9401)\" style=\"stroke:#3da44d; stroke-width:4; stroke-opacity:1; fill:none\" points=\"\n",
       "  1789.75,312.204 1933.75,312.204 \n",
       "  \"/>\n",
       "<g clip-path=\"url(#clip9401)\">\n",
       "<text style=\"fill:#000000; fill-opacity:1; font-family:Arial,Helvetica Neue,Helvetica,sans-serif; font-size:48px; text-anchor:start;\" transform=\"rotate(0, 1957.75, 329.704)\" x=\"1957.75\" y=\"329.704\">Legendre 2</text>\n",
       "</g>\n",
       "<polyline clip-path=\"url(#clip9401)\" style=\"stroke:#c271d2; stroke-width:4; stroke-opacity:1; fill:none\" points=\"\n",
       "  1789.75,372.684 1933.75,372.684 \n",
       "  \"/>\n",
       "<g clip-path=\"url(#clip9401)\">\n",
       "<text style=\"fill:#000000; fill-opacity:1; font-family:Arial,Helvetica Neue,Helvetica,sans-serif; font-size:48px; text-anchor:start;\" transform=\"rotate(0, 1957.75, 390.184)\" x=\"1957.75\" y=\"390.184\">Legendre 3</text>\n",
       "</g>\n",
       "<polyline clip-path=\"url(#clip9401)\" style=\"stroke:#ac8d18; stroke-width:4; stroke-opacity:1; fill:none\" points=\"\n",
       "  1789.75,433.164 1933.75,433.164 \n",
       "  \"/>\n",
       "<g clip-path=\"url(#clip9401)\">\n",
       "<text style=\"fill:#000000; fill-opacity:1; font-family:Arial,Helvetica Neue,Helvetica,sans-serif; font-size:48px; text-anchor:start;\" transform=\"rotate(0, 1957.75, 450.664)\" x=\"1957.75\" y=\"450.664\">Legendre 4</text>\n",
       "</g>\n",
       "<polyline clip-path=\"url(#clip9401)\" style=\"stroke:#00a9ad; stroke-width:4; stroke-opacity:1; fill:none\" points=\"\n",
       "  1789.75,493.644 1933.75,493.644 \n",
       "  \"/>\n",
       "<g clip-path=\"url(#clip9401)\">\n",
       "<text style=\"fill:#000000; fill-opacity:1; font-family:Arial,Helvetica Neue,Helvetica,sans-serif; font-size:48px; text-anchor:start;\" transform=\"rotate(0, 1957.75, 511.144)\" x=\"1957.75\" y=\"511.144\">Legendre 5</text>\n",
       "</g>\n",
       "</svg>\n"
      ]
     },
     "execution_count": 11,
     "metadata": {},
     "output_type": "execute_result"
    }
   ],
   "source": [
    "using Plots\n",
    "plot(x_s, ys_0, label=\"Legendre 0\", xlabel=\"x\", ylabel=\"y\")\n",
    "plot!(x_s, ys_1, label=\"Legendre 1\", xlabel=\"x\", ylabel=\"y\")\n",
    "plot!(x_s, ys_2, label=\"Legendre 2\", xlabel=\"x\", ylabel=\"y\")\n",
    "plot!(x_s, ys_3, label=\"Legendre 3\", xlabel=\"x\", ylabel=\"y\")\n",
    "plot!(x_s, ys_4, label=\"Legendre 4\", xlabel=\"x\", ylabel=\"y\")\n",
    "plot!(x_s, ys_5, label=\"Legendre 5\", xlabel=\"x\", ylabel=\"y\")"
   ]
  },
  {
   "cell_type": "code",
   "execution_count": 13,
   "metadata": {},
   "outputs": [
    {
     "data": {
      "text/html": [
       "0.375 &#45; 3.75&#8729;x^2 &#43; 4.375&#8729;x^4"
      ],
      "text/latex": [
       "$0.375 - 3.75\\cdot x^{2} + 4.375\\cdot x^{4}$"
      ],
      "text/plain": [
       "Poly(0.375 - 3.75*x^2 + 4.375*x^4)"
      ]
     },
     "execution_count": 13,
     "metadata": {},
     "output_type": "execute_result"
    }
   ],
   "source": [
    "l2 = Legendre(2)\n",
    "l3 = Legendre(3)\n",
    "l4 = Legendre(4)"
   ]
  },
  {
   "cell_type": "code",
   "execution_count": 14,
   "metadata": {},
   "outputs": [
    {
     "data": {
      "text/plain": [
       "2-element Array{Float64,1}:\n",
       " -0.5773502691896258\n",
       "  0.5773502691896256"
      ]
     },
     "execution_count": 14,
     "metadata": {},
     "output_type": "execute_result"
    }
   ],
   "source": [
    "l2_roots = roots(l2)"
   ]
  },
  {
   "cell_type": "code",
   "execution_count": 19,
   "metadata": {},
   "outputs": [
    {
     "data": {
      "text/plain": [
       "([-0.57735, 0.57735], [1.0, 1.0])"
      ]
     },
     "execution_count": 19,
     "metadata": {},
     "output_type": "execute_result"
    }
   ],
   "source": [
    "(xp,a)=gauss(Float64,2)"
   ]
  },
  {
   "cell_type": "code",
   "execution_count": 20,
   "metadata": {},
   "outputs": [
    {
     "data": {
      "text/plain": [
       "3-element Array{Float64,1}:\n",
       " -0.7745966692414834\n",
       "  0.7745966692414833\n",
       "  0.0               "
      ]
     },
     "execution_count": 20,
     "metadata": {},
     "output_type": "execute_result"
    }
   ],
   "source": [
    "l3_roots = roots(l3)"
   ]
  },
  {
   "cell_type": "code",
   "execution_count": 21,
   "metadata": {},
   "outputs": [
    {
     "data": {
      "text/plain": [
       "([-0.774597, 0.0, 0.774597], [0.555556, 0.888889, 0.555556])"
      ]
     },
     "execution_count": 21,
     "metadata": {},
     "output_type": "execute_result"
    }
   ],
   "source": [
    "(xp,a)=gauss(Float64,3)"
   ]
  },
  {
   "cell_type": "code",
   "execution_count": 22,
   "metadata": {},
   "outputs": [
    {
     "data": {
      "text/plain": [
       "4-element Array{Float64,1}:\n",
       " -0.8611363115940536 \n",
       "  0.8611363115940531 \n",
       " -0.33998104358485653\n",
       "  0.3399810435848563 "
      ]
     },
     "execution_count": 22,
     "metadata": {},
     "output_type": "execute_result"
    }
   ],
   "source": [
    "l4_roots = roots(l4)"
   ]
  },
  {
   "cell_type": "code",
   "execution_count": 23,
   "metadata": {},
   "outputs": [
    {
     "data": {
      "text/plain": [
       "([-0.861136, -0.339981, 0.339981, 0.861136], [0.347855, 0.652145, 0.652145, 0.347855])"
      ]
     },
     "execution_count": 23,
     "metadata": {},
     "output_type": "execute_result"
    }
   ],
   "source": [
    "(xp,a)=gauss(Float64,4)"
   ]
  },
  {
   "cell_type": "markdown",
   "metadata": {},
   "source": [
    "Odcięte xi n-punktowej kwadratury Gaussa z funkcją ważącą w(x)\n",
    "w [a, b] są zerami wielomianu ortogonalnego ϕn(x) dla tego\n",
    "samego przedziału i tej samej funkcji ważącej"
   ]
  },
  {
   "cell_type": "markdown",
   "metadata": {},
   "source": [
    "Zadanie 2\n",
    "Napisz funkcję, która dla podanej liczby punktów Gaussa $k$ oraz funkcji $f$ policzy $\\int_{-1}^{1} f dx$ metodą używającą funkcji:\n",
    "gauss(k)\n",
    "oraz sumy\n",
    "sum(a .* f.(xp))\n",
    "przetestuj dla wielomianów coraz większych stopni\n",
    "sprawdz kiedy przestaje być dokładna,\n",
    "podaj związek z twierdzeniem o stopniu dokładności kwadratury Gaussa"
   ]
  }
 ],
 "metadata": {
  "kernelspec": {
   "display_name": "Julia 1.0.3",
   "language": "julia",
   "name": "julia-1.0"
  },
  "language_info": {
   "file_extension": ".jl",
   "mimetype": "application/julia",
   "name": "julia",
   "version": "1.0.3"
  }
 },
 "nbformat": 4,
 "nbformat_minor": 2
}
